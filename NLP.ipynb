{
  "nbformat": 4,
  "nbformat_minor": 0,
  "metadata": {
    "colab": {
      "provenance": [],
      "collapsed_sections": []
    },
    "kernelspec": {
      "name": "python3",
      "display_name": "Python 3"
    },
    "language_info": {
      "name": "python"
    }
  },
  "cells": [
    {
      "cell_type": "code",
      "execution_count": 1,
      "metadata": {
        "id": "ndaejiP5qhBq"
      },
      "outputs": [],
      "source": [
        "import pandas as pd\n",
        "import numpy as np\n",
        "import matplotlib.pyplot as plt\n",
        "import seaborn as sns\n",
        "import nltk"
      ]
    },
    {
      "cell_type": "code",
      "source": [
        "from google.colab import drive\n",
        "drive.mount('/content/drive')"
      ],
      "metadata": {
        "colab": {
          "base_uri": "https://localhost:8080/"
        },
        "id": "jKF4Rx6FtdKr",
        "outputId": "8236e634-a6b4-4e7b-94a3-0c3ce3ffef4c"
      },
      "execution_count": 2,
      "outputs": [
        {
          "output_type": "stream",
          "name": "stdout",
          "text": [
            "Drive already mounted at /content/drive; to attempt to forcibly remount, call drive.mount(\"/content/drive\", force_remount=True).\n"
          ]
        }
      ]
    },
    {
      "cell_type": "markdown",
      "source": [
        "# **read data**"
      ],
      "metadata": {
        "id": "GxIP6Gl1sgPX"
      }
    },
    {
      "cell_type": "code",
      "source": [
        "train=pd.read_csv(\"/content/drive/MyDrive/final project/Predicting Disaster Tweets/train.csv\")"
      ],
      "metadata": {
        "id": "j-npjdrgrFhM"
      },
      "execution_count": 3,
      "outputs": []
    },
    {
      "cell_type": "markdown",
      "source": [
        "# **check the head and info of data**\n",
        "\n",
        "\n"
      ],
      "metadata": {
        "id": "pk4UeKhIsPfX"
      }
    },
    {
      "cell_type": "code",
      "source": [
        "train.head()"
      ],
      "metadata": {
        "colab": {
          "base_uri": "https://localhost:8080/",
          "height": 204
        },
        "id": "dJAGGx0grZt1",
        "outputId": "b3cc1bc2-2ffd-4cf5-812b-a2f5b4f8444c"
      },
      "execution_count": 4,
      "outputs": [
        {
          "output_type": "execute_result",
          "data": {
            "text/plain": [
              "   id keyword location                                               text  \\\n",
              "0   1     NaN      NaN  Our Deeds are the Reason of this #earthquake M...   \n",
              "1   4     NaN      NaN             Forest fire near La Ronge Sask. Canada   \n",
              "2   5     NaN      NaN  All residents asked to 'shelter in place' are ...   \n",
              "3   6     NaN      NaN  13,000 people receive #wildfires evacuation or...   \n",
              "4   7     NaN      NaN  Just got sent this photo from Ruby #Alaska as ...   \n",
              "\n",
              "   target  \n",
              "0       1  \n",
              "1       1  \n",
              "2       1  \n",
              "3       1  \n",
              "4       1  "
            ],
            "text/html": [
              "\n",
              "  <div id=\"df-c1d69e63-29a7-4923-99e8-75dd63fa4b93\">\n",
              "    <div class=\"colab-df-container\">\n",
              "      <div>\n",
              "<style scoped>\n",
              "    .dataframe tbody tr th:only-of-type {\n",
              "        vertical-align: middle;\n",
              "    }\n",
              "\n",
              "    .dataframe tbody tr th {\n",
              "        vertical-align: top;\n",
              "    }\n",
              "\n",
              "    .dataframe thead th {\n",
              "        text-align: right;\n",
              "    }\n",
              "</style>\n",
              "<table border=\"1\" class=\"dataframe\">\n",
              "  <thead>\n",
              "    <tr style=\"text-align: right;\">\n",
              "      <th></th>\n",
              "      <th>id</th>\n",
              "      <th>keyword</th>\n",
              "      <th>location</th>\n",
              "      <th>text</th>\n",
              "      <th>target</th>\n",
              "    </tr>\n",
              "  </thead>\n",
              "  <tbody>\n",
              "    <tr>\n",
              "      <th>0</th>\n",
              "      <td>1</td>\n",
              "      <td>NaN</td>\n",
              "      <td>NaN</td>\n",
              "      <td>Our Deeds are the Reason of this #earthquake M...</td>\n",
              "      <td>1</td>\n",
              "    </tr>\n",
              "    <tr>\n",
              "      <th>1</th>\n",
              "      <td>4</td>\n",
              "      <td>NaN</td>\n",
              "      <td>NaN</td>\n",
              "      <td>Forest fire near La Ronge Sask. Canada</td>\n",
              "      <td>1</td>\n",
              "    </tr>\n",
              "    <tr>\n",
              "      <th>2</th>\n",
              "      <td>5</td>\n",
              "      <td>NaN</td>\n",
              "      <td>NaN</td>\n",
              "      <td>All residents asked to 'shelter in place' are ...</td>\n",
              "      <td>1</td>\n",
              "    </tr>\n",
              "    <tr>\n",
              "      <th>3</th>\n",
              "      <td>6</td>\n",
              "      <td>NaN</td>\n",
              "      <td>NaN</td>\n",
              "      <td>13,000 people receive #wildfires evacuation or...</td>\n",
              "      <td>1</td>\n",
              "    </tr>\n",
              "    <tr>\n",
              "      <th>4</th>\n",
              "      <td>7</td>\n",
              "      <td>NaN</td>\n",
              "      <td>NaN</td>\n",
              "      <td>Just got sent this photo from Ruby #Alaska as ...</td>\n",
              "      <td>1</td>\n",
              "    </tr>\n",
              "  </tbody>\n",
              "</table>\n",
              "</div>\n",
              "      <button class=\"colab-df-convert\" onclick=\"convertToInteractive('df-c1d69e63-29a7-4923-99e8-75dd63fa4b93')\"\n",
              "              title=\"Convert this dataframe to an interactive table.\"\n",
              "              style=\"display:none;\">\n",
              "        \n",
              "  <svg xmlns=\"http://www.w3.org/2000/svg\" height=\"24px\"viewBox=\"0 0 24 24\"\n",
              "       width=\"24px\">\n",
              "    <path d=\"M0 0h24v24H0V0z\" fill=\"none\"/>\n",
              "    <path d=\"M18.56 5.44l.94 2.06.94-2.06 2.06-.94-2.06-.94-.94-2.06-.94 2.06-2.06.94zm-11 1L8.5 8.5l.94-2.06 2.06-.94-2.06-.94L8.5 2.5l-.94 2.06-2.06.94zm10 10l.94 2.06.94-2.06 2.06-.94-2.06-.94-.94-2.06-.94 2.06-2.06.94z\"/><path d=\"M17.41 7.96l-1.37-1.37c-.4-.4-.92-.59-1.43-.59-.52 0-1.04.2-1.43.59L10.3 9.45l-7.72 7.72c-.78.78-.78 2.05 0 2.83L4 21.41c.39.39.9.59 1.41.59.51 0 1.02-.2 1.41-.59l7.78-7.78 2.81-2.81c.8-.78.8-2.07 0-2.86zM5.41 20L4 18.59l7.72-7.72 1.47 1.35L5.41 20z\"/>\n",
              "  </svg>\n",
              "      </button>\n",
              "      \n",
              "  <style>\n",
              "    .colab-df-container {\n",
              "      display:flex;\n",
              "      flex-wrap:wrap;\n",
              "      gap: 12px;\n",
              "    }\n",
              "\n",
              "    .colab-df-convert {\n",
              "      background-color: #E8F0FE;\n",
              "      border: none;\n",
              "      border-radius: 50%;\n",
              "      cursor: pointer;\n",
              "      display: none;\n",
              "      fill: #1967D2;\n",
              "      height: 32px;\n",
              "      padding: 0 0 0 0;\n",
              "      width: 32px;\n",
              "    }\n",
              "\n",
              "    .colab-df-convert:hover {\n",
              "      background-color: #E2EBFA;\n",
              "      box-shadow: 0px 1px 2px rgba(60, 64, 67, 0.3), 0px 1px 3px 1px rgba(60, 64, 67, 0.15);\n",
              "      fill: #174EA6;\n",
              "    }\n",
              "\n",
              "    [theme=dark] .colab-df-convert {\n",
              "      background-color: #3B4455;\n",
              "      fill: #D2E3FC;\n",
              "    }\n",
              "\n",
              "    [theme=dark] .colab-df-convert:hover {\n",
              "      background-color: #434B5C;\n",
              "      box-shadow: 0px 1px 3px 1px rgba(0, 0, 0, 0.15);\n",
              "      filter: drop-shadow(0px 1px 2px rgba(0, 0, 0, 0.3));\n",
              "      fill: #FFFFFF;\n",
              "    }\n",
              "  </style>\n",
              "\n",
              "      <script>\n",
              "        const buttonEl =\n",
              "          document.querySelector('#df-c1d69e63-29a7-4923-99e8-75dd63fa4b93 button.colab-df-convert');\n",
              "        buttonEl.style.display =\n",
              "          google.colab.kernel.accessAllowed ? 'block' : 'none';\n",
              "\n",
              "        async function convertToInteractive(key) {\n",
              "          const element = document.querySelector('#df-c1d69e63-29a7-4923-99e8-75dd63fa4b93');\n",
              "          const dataTable =\n",
              "            await google.colab.kernel.invokeFunction('convertToInteractive',\n",
              "                                                     [key], {});\n",
              "          if (!dataTable) return;\n",
              "\n",
              "          const docLinkHtml = 'Like what you see? Visit the ' +\n",
              "            '<a target=\"_blank\" href=https://colab.research.google.com/notebooks/data_table.ipynb>data table notebook</a>'\n",
              "            + ' to learn more about interactive tables.';\n",
              "          element.innerHTML = '';\n",
              "          dataTable['output_type'] = 'display_data';\n",
              "          await google.colab.output.renderOutput(dataTable, element);\n",
              "          const docLink = document.createElement('div');\n",
              "          docLink.innerHTML = docLinkHtml;\n",
              "          element.appendChild(docLink);\n",
              "        }\n",
              "      </script>\n",
              "    </div>\n",
              "  </div>\n",
              "  "
            ]
          },
          "metadata": {},
          "execution_count": 4
        }
      ]
    },
    {
      "cell_type": "code",
      "source": [
        "train.info()"
      ],
      "metadata": {
        "colab": {
          "base_uri": "https://localhost:8080/"
        },
        "id": "sQIOQoynrak3",
        "outputId": "f4f5dbf2-633e-456a-c7ec-f0eb44926bb9"
      },
      "execution_count": 5,
      "outputs": [
        {
          "output_type": "stream",
          "name": "stdout",
          "text": [
            "<class 'pandas.core.frame.DataFrame'>\n",
            "RangeIndex: 7613 entries, 0 to 7612\n",
            "Data columns (total 5 columns):\n",
            " #   Column    Non-Null Count  Dtype \n",
            "---  ------    --------------  ----- \n",
            " 0   id        7613 non-null   int64 \n",
            " 1   keyword   7552 non-null   object\n",
            " 2   location  5080 non-null   object\n",
            " 3   text      7613 non-null   object\n",
            " 4   target    7613 non-null   int64 \n",
            "dtypes: int64(2), object(3)\n",
            "memory usage: 297.5+ KB\n"
          ]
        }
      ]
    },
    {
      "cell_type": "code",
      "source": [
        "train.shape"
      ],
      "metadata": {
        "colab": {
          "base_uri": "https://localhost:8080/"
        },
        "id": "wJp-7zXgryT7",
        "outputId": "1409eac1-c965-48a5-d032-62ddc3589676"
      },
      "execution_count": 6,
      "outputs": [
        {
          "output_type": "execute_result",
          "data": {
            "text/plain": [
              "(7613, 5)"
            ]
          },
          "metadata": {},
          "execution_count": 6
        }
      ]
    },
    {
      "cell_type": "markdown",
      "source": [
        "# **if there are missing value &percentage**"
      ],
      "metadata": {
        "id": "DuhLlxbKuHQ7"
      }
    },
    {
      "cell_type": "code",
      "source": [
        "missing_val=train.isna().sum().sum()\n"
      ],
      "metadata": {
        "id": "zAPdYbJQstmo"
      },
      "execution_count": 7,
      "outputs": []
    },
    {
      "cell_type": "code",
      "source": [
        "missing_val"
      ],
      "metadata": {
        "colab": {
          "base_uri": "https://localhost:8080/"
        },
        "id": "4UFJD3TPtGbM",
        "outputId": "84f0b5db-6188-446e-db58-a8039d8c2398"
      },
      "execution_count": 8,
      "outputs": [
        {
          "output_type": "execute_result",
          "data": {
            "text/plain": [
              "2594"
            ]
          },
          "metadata": {},
          "execution_count": 8
        }
      ]
    },
    {
      "cell_type": "code",
      "source": [
        "persentageofmissing= (missing_val/train.shape[0])*100\n",
        "persentageofmissing"
      ],
      "metadata": {
        "colab": {
          "base_uri": "https://localhost:8080/"
        },
        "id": "SeGHSdEYti9k",
        "outputId": "e353b8c0-584c-4b7e-ab48-f38aae302f5a"
      },
      "execution_count": 9,
      "outputs": [
        {
          "output_type": "execute_result",
          "data": {
            "text/plain": [
              "34.073295678444765"
            ]
          },
          "metadata": {},
          "execution_count": 9
        }
      ]
    },
    {
      "cell_type": "markdown",
      "source": [
        "#  how many data in each **class**"
      ],
      "metadata": {
        "id": "5GRukn1xuWDE"
      }
    },
    {
      "cell_type": "code",
      "source": [
        "sns.countplot(train['target'])"
      ],
      "metadata": {
        "colab": {
          "base_uri": "https://localhost:8080/",
          "height": 350
        },
        "id": "efpO95PRuQA4",
        "outputId": "5454a13a-0dbd-4b5c-95e3-a77f74dffc0a"
      },
      "execution_count": 10,
      "outputs": [
        {
          "output_type": "stream",
          "name": "stderr",
          "text": [
            "/usr/local/lib/python3.7/dist-packages/seaborn/_decorators.py:43: FutureWarning: Pass the following variable as a keyword arg: x. From version 0.12, the only valid positional argument will be `data`, and passing other arguments without an explicit keyword will result in an error or misinterpretation.\n",
            "  FutureWarning\n"
          ]
        },
        {
          "output_type": "execute_result",
          "data": {
            "text/plain": [
              "<matplotlib.axes._subplots.AxesSubplot at 0x7f998fba5750>"
            ]
          },
          "metadata": {},
          "execution_count": 10
        },
        {
          "output_type": "display_data",
          "data": {
            "text/plain": [
              "<Figure size 432x288 with 1 Axes>"
            ],
            "image/png": "[encoded data removed]"
          },
          "metadata": {
            "needs_background": "light"
          }
        }
      ]
    },
    {
      "cell_type": "markdown",
      "source": [
        "# **Get the top 15 locations of the data**"
      ],
      "metadata": {
        "id": "UkR458XjwMC1"
      }
    },
    {
      "cell_type": "code",
      "source": [
        "train['location'].value_counts().head(15) "
      ],
      "metadata": {
        "colab": {
          "base_uri": "https://localhost:8080/"
        },
        "id": "CYNO7xYauq_q",
        "outputId": "b03b461f-e39e-46fa-bfdf-e60e67f04b83"
      },
      "execution_count": 11,
      "outputs": [
        {
          "output_type": "execute_result",
          "data": {
            "text/plain": [
              "USA                104\n",
              "New York            71\n",
              "United States       50\n",
              "London              45\n",
              "Canada              29\n",
              "Nigeria             28\n",
              "UK                  27\n",
              "Los Angeles, CA     26\n",
              "India               24\n",
              "Mumbai              22\n",
              "Washington, DC      21\n",
              "Kenya               20\n",
              "Worldwide           19\n",
              "Australia           18\n",
              "Chicago, IL         18\n",
              "Name: location, dtype: int64"
            ]
          },
          "metadata": {},
          "execution_count": 11
        }
      ]
    },
    {
      "cell_type": "code",
      "source": [
        "dis_locations = train[train['target']==1]['location'].value_counts()[:15]\n",
        "dis_locations"
      ],
      "metadata": {
        "colab": {
          "base_uri": "https://localhost:8080/"
        },
        "id": "bkuzo-kTvI5j",
        "outputId": "54e54a9f-8d85-430f-dac9-d028263218ec"
      },
      "execution_count": 12,
      "outputs": [
        {
          "output_type": "execute_result",
          "data": {
            "text/plain": [
              "USA                 67\n",
              "United States       27\n",
              "Nigeria             22\n",
              "India               20\n",
              "Mumbai              19\n",
              "UK                  16\n",
              "London              16\n",
              "New York            16\n",
              "Washington, DC      15\n",
              "Canada              13\n",
              "Worldwide           12\n",
              "Washington, D.C.     9\n",
              "Chicago, IL          9\n",
              "Australia            9\n",
              "Indonesia            8\n",
              "Name: location, dtype: int64"
            ]
          },
          "metadata": {},
          "execution_count": 12
        }
      ]
    },
    {
      "cell_type": "code",
      "source": [
        "not_dis_locations = train[train['target']==0]['location'].value_counts()[:15]\n",
        "not_dis_locations "
      ],
      "metadata": {
        "colab": {
          "base_uri": "https://localhost:8080/"
        },
        "id": "yslLORoivd1H",
        "outputId": "5e45ce90-d6a9-43b2-95fc-8d7e5ddb02c4"
      },
      "execution_count": 13,
      "outputs": [
        {
          "output_type": "execute_result",
          "data": {
            "text/plain": [
              "New York           55\n",
              "USA                37\n",
              "London             29\n",
              "United States      23\n",
              "Los Angeles, CA    18\n",
              "Canada             16\n",
              "Kenya              15\n",
              "Everywhere         12\n",
              "Florida            11\n",
              "UK                 11\n",
              "California         10\n",
              "NYC                10\n",
              "United Kingdom     10\n",
              "ss                  9\n",
              "London, England     9\n",
              "Name: location, dtype: int64"
            ]
          },
          "metadata": {},
          "execution_count": 13
        }
      ]
    },
    {
      "cell_type": "markdown",
      "source": [
        "# dis_location"
      ],
      "metadata": {
        "id": "syhPU3ue-FKY"
      }
    },
    {
      "cell_type": "code",
      "source": [
        "plt.figure(figsize=(30,10))\n",
        "sns.barplot(dis_locations.index,dis_locations.values,capsize=.4,hue=dis_locations.index) \n",
        "\n",
        "plt.show()"
      ],
      "metadata": {
        "colab": {
          "base_uri": "https://localhost:8080/",
          "height": 414
        },
        "id": "x0rQ9uTavkqC",
        "outputId": "1d60201a-678f-4e7f-e9fb-73fefbeaca75"
      },
      "execution_count": 14,
      "outputs": [
        {
          "output_type": "stream",
          "name": "stderr",
          "text": [
            "/usr/local/lib/python3.7/dist-packages/seaborn/_decorators.py:43: FutureWarning: Pass the following variables as keyword args: x, y. From version 0.12, the only valid positional argument will be `data`, and passing other arguments without an explicit keyword will result in an error or misinterpretation.\n",
            "  FutureWarning\n"
          ]
        },
        {
          "output_type": "display_data",
          "data": {
            "text/plain": [
              "<Figure size 2160x720 with 1 Axes>"
            ],
            "image/png": "[encoded data removed]"
          },
          "metadata": {
            "needs_background": "light"
          }
        }
      ]
    },
    {
      "cell_type": "markdown",
      "source": [
        "# not_dis_location\n"
      ],
      "metadata": {
        "id": "HZ3d7u3Q-XS2"
      }
    },
    {
      "cell_type": "code",
      "source": [
        "plt.figure(figsize=(30,10))\n",
        "sns.barplot(not_dis_locations.index,not_dis_locations.values,capsize=.4,hue=not_dis_locations.index) \n",
        "\n",
        "plt.show()"
      ],
      "metadata": {
        "colab": {
          "base_uri": "https://localhost:8080/",
          "height": 413
        },
        "id": "q4UD8hylzopO",
        "outputId": "87b3117e-22cf-4595-eb1d-7c6b5c298c83"
      },
      "execution_count": 15,
      "outputs": [
        {
          "output_type": "stream",
          "name": "stderr",
          "text": [
            "/usr/local/lib/python3.7/dist-packages/seaborn/_decorators.py:43: FutureWarning: Pass the following variables as keyword args: x, y. From version 0.12, the only valid positional argument will be `data`, and passing other arguments without an explicit keyword will result in an error or misinterpretation.\n",
            "  FutureWarning\n"
          ]
        },
        {
          "output_type": "display_data",
          "data": {
            "text/plain": [
              "<Figure size 2160x720 with 1 Axes>"
            ],
            "image/png": "[encoded data removed]"
          },
          "metadata": {
            "needs_background": "light"
          }
        }
      ]
    },
    {
      "cell_type": "markdown",
      "source": [
        "# **Get the top 15 keyword in the data**"
      ],
      "metadata": {
        "id": "ucmQ2Z3exGeX"
      }
    },
    {
      "cell_type": "code",
      "source": [
        "dis_key = train[train['target']==1]['keyword'].value_counts()[:15]\n",
        "dis_key"
      ],
      "metadata": {
        "colab": {
          "base_uri": "https://localhost:8080/"
        },
        "id": "ozdVE0oYvu1T",
        "outputId": "0f4dae75-8368-4442-b36d-f1b71d3b62d1"
      },
      "execution_count": 16,
      "outputs": [
        {
          "output_type": "execute_result",
          "data": {
            "text/plain": [
              "derailment             39\n",
              "wreckage               39\n",
              "outbreak               39\n",
              "debris                 37\n",
              "oil%20spill            37\n",
              "typhoon                37\n",
              "evacuated              32\n",
              "suicide%20bombing      32\n",
              "rescuers               32\n",
              "suicide%20bomb         32\n",
              "nuclear%20disaster     31\n",
              "razed                  31\n",
              "suicide%20bomber       30\n",
              "earthquake             30\n",
              "airplane%20accident    30\n",
              "Name: keyword, dtype: int64"
            ]
          },
          "metadata": {},
          "execution_count": 16
        }
      ]
    },
    {
      "cell_type": "code",
      "source": [
        "not_dis_key = train[train['target']==0]['keyword'].value_counts()[:15]\n",
        "not_dis_key"
      ],
      "metadata": {
        "colab": {
          "base_uri": "https://localhost:8080/"
        },
        "id": "3MNyD16uwqUp",
        "outputId": "366d5e6f-e316-4e82-ca83-e492c52e277e"
      },
      "execution_count": 17,
      "outputs": [
        {
          "output_type": "execute_result",
          "data": {
            "text/plain": [
              "body%20bags    40\n",
              "harm           37\n",
              "armageddon     37\n",
              "wrecked        36\n",
              "ruin           36\n",
              "deluge         36\n",
              "explode        35\n",
              "twister        35\n",
              "fear           35\n",
              "siren          35\n",
              "aftershock     34\n",
              "panic          34\n",
              "screaming      34\n",
              "blizzard       33\n",
              "blazing        33\n",
              "Name: keyword, dtype: int64"
            ]
          },
          "metadata": {},
          "execution_count": 17
        }
      ]
    },
    {
      "cell_type": "code",
      "source": [
        "plt.figure(figsize=(30,10))\n",
        "\n",
        "sns.barplot(dis_key.index,dis_key.values,capsize=.4,hue=dis_key.index) \n",
        "\n",
        "plt.show()"
      ],
      "metadata": {
        "colab": {
          "base_uri": "https://localhost:8080/",
          "height": 413
        },
        "id": "mvgbXpaMz9Kh",
        "outputId": "212822c9-39f4-4c4d-bf01-97068d38e9fd"
      },
      "execution_count": 18,
      "outputs": [
        {
          "output_type": "stream",
          "name": "stderr",
          "text": [
            "/usr/local/lib/python3.7/dist-packages/seaborn/_decorators.py:43: FutureWarning: Pass the following variables as keyword args: x, y. From version 0.12, the only valid positional argument will be `data`, and passing other arguments without an explicit keyword will result in an error or misinterpretation.\n",
            "  FutureWarning\n"
          ]
        },
        {
          "output_type": "display_data",
          "data": {
            "text/plain": [
              "<Figure size 2160x720 with 1 Axes>"
            ],
            "image/png": "[encoded data removed]"
          },
          "metadata": {
            "needs_background": "light"
          }
        }
      ]
    },
    {
      "cell_type": "code",
      "source": [
        "plt.figure(figsize=(26,10))\n",
        "\n",
        "sns.barplot(not_dis_key.index,not_dis_key.values,capsize=4,hue=not_dis_key.index)\n",
        "plt.show()"
      ],
      "metadata": {
        "colab": {
          "base_uri": "https://localhost:8080/",
          "height": 465
        },
        "id": "4gzwUY530L77",
        "outputId": "92dd5be0-9289-4885-c63a-de7cf3c0ef4d"
      },
      "execution_count": 24,
      "outputs": [
        {
          "output_type": "stream",
          "name": "stderr",
          "text": [
            "/usr/local/lib/python3.7/dist-packages/seaborn/_decorators.py:43: FutureWarning: Pass the following variables as keyword args: x, y. From version 0.12, the only valid positional argument will be `data`, and passing other arguments without an explicit keyword will result in an error or misinterpretation.\n",
            "  FutureWarning\n"
          ]
        },
        {
          "output_type": "display_data",
          "data": {
            "text/plain": [
              "<Figure size 1872x720 with 1 Axes>"
            ],
            "image/png": "[encoded data removed]"
          },
          "metadata": {
            "needs_background": "light"
          }
        }
      ]
    },
    {
      "cell_type": "markdown",
      "source": [
        "# what are the most common words"
      ],
      "metadata": {
        "id": "SxlJL-rj_NS3"
      }
    },
    {
      "cell_type": "markdown",
      "source": [],
      "metadata": {
        "id": "C8t6n-TV_eJV"
      }
    },
    {
      "cell_type": "code",
      "source": [
        "import re\n",
        "tweets=train['text']\n",
        "for i in range(2,11,1):\n",
        "  print(tweets[i])    "
      ],
      "metadata": {
        "colab": {
          "base_uri": "https://localhost:8080/"
        },
        "id": "8gBaUFXKw2Yq",
        "outputId": "be1ff3a6-debd-48d6-f87d-61709aedc18f"
      },
      "execution_count": 20,
      "outputs": [
        {
          "output_type": "stream",
          "name": "stdout",
          "text": [
            "All residents asked to 'shelter in place' are being notified by officers. No other evacuation or shelter in place orders are expected\n",
            "13,000 people receive #wildfires evacuation orders in California \n",
            "Just got sent this photo from Ruby #Alaska as smoke from #wildfires pours into a school \n",
            "#RockyFire Update => California Hwy. 20 closed in both directions due to Lake County fire - #CAfire #wildfires\n",
            "#flood #disaster Heavy rain causes flash flooding of streets in Manitou, Colorado Springs areas\n",
            "I'm on top of the hill and I can see a fire in the woods...\n",
            "There's an emergency evacuation happening now in the building across the street\n",
            "I'm afraid that the tornado is coming to our area...\n",
            "Three people died from the heat wave so far\n"
          ]
        }
      ]
    },
    {
      "cell_type": "code",
      "source": [
        "def removing_unicodes(word):\n",
        "  temp = word.encode(\"ascii\", \"ignore\")\n",
        "  temp = temp.decode()\n",
        "  return temp "
      ],
      "metadata": {
        "id": "ZmenS5zYyJbq"
      },
      "execution_count": 21,
      "outputs": []
    },
    {
      "cell_type": "code",
      "source": [
        "def clean_texts(text):\n",
        "  text = re.sub(r'#\\w*','',text) #removing hashtags\n",
        "  text = re.sub(r'@\\w*','',text) #removing menthions\n",
        "  text = re.sub(r'https?:\\S*','',text) #removing links\n",
        "  text = re.sub(r'\\d+','',text) #removing numbers\n",
        "  text = re.sub(r'\\W+',' ',text) #removing panctuation & non words like (- , :)\n",
        "  text = re.sub(r'_','',text) #removing underscore symbol\n",
        "  text = re.sub(r'^\\s','',text) #removing spaces at the begain of the sentences\n",
        "  text = re.sub(r'\\s$','',text) #removing spaces at the end of the sentences\n",
        "  \n",
        "  \n",
        "  return text\n",
        "\n",
        "\n"
      ],
      "metadata": {
        "id": "JDDqQe7ByT40"
      },
      "execution_count": 22,
      "outputs": []
    },
    {
      "cell_type": "markdown",
      "source": [
        "**cleaning the tweets**"
      ],
      "metadata": {
        "id": "2yHYwreYkX-3"
      }
    },
    {
      "cell_type": "code",
      "source": [
        "no_uni_tweets = []\n",
        "for tweet in tweets:\n",
        "  no_uni_tweets.append(removing_unicodes(tweet)) "
      ],
      "metadata": {
        "id": "KjyX3tZ0kIC8"
      },
      "execution_count": 23,
      "outputs": []
    },
    {
      "cell_type": "code",
      "source": [
        "cleaned_tweets = []\n",
        "for tweet in no_uni_tweets:\n",
        "  cleaned_tweets.append(clean_texts(tweet))"
      ],
      "metadata": {
        "id": "FIT8EKRxk4FH"
      },
      "execution_count": 25,
      "outputs": []
    },
    {
      "cell_type": "code",
      "source": [
        "tweets = []\n",
        "for tweet in cleaned_tweets:\n",
        "  tweets.append(tweet.split())"
      ],
      "metadata": {
        "id": "_rhdGE2fk7hP"
      },
      "execution_count": 26,
      "outputs": []
    },
    {
      "cell_type": "code",
      "source": [
        "words = []\n",
        "for sentence in tweets:\n",
        "  for word in sentence:\n",
        "    words.append(word) "
      ],
      "metadata": {
        "id": "tbZ-gaJjlC4k"
      },
      "execution_count": 27,
      "outputs": []
    },
    {
      "cell_type": "code",
      "source": [
        "from nltk.corpus import stopwords\n",
        "nltk.download('stopwords')\n",
        "stop_words = stopwords.words('english')\n",
        "\n",
        "def remove_stopwords(words):\n",
        "  non_stop_words = []\n",
        "  for word in words:\n",
        "    if word.lower() not in stop_words:\n",
        "      non_stop_words.append(word)\n",
        "  return non_stop_words"
      ],
      "metadata": {
        "colab": {
          "base_uri": "https://localhost:8080/"
        },
        "id": "4BmjvQuolFHn",
        "outputId": "c0083d42-c5e1-46f1-e78b-82e2ee53c82d"
      },
      "execution_count": 28,
      "outputs": [
        {
          "output_type": "stream",
          "name": "stderr",
          "text": [
            "[nltk_data] Downloading package stopwords to /root/nltk_data...\n",
            "[nltk_data]   Unzipping corpora/stopwords.zip.\n"
          ]
        }
      ]
    },
    {
      "cell_type": "code",
      "source": [
        "words_without_stop_words = remove_stopwords(words) "
      ],
      "metadata": {
        "id": "lzJAGM4ilJaB"
      },
      "execution_count": 29,
      "outputs": []
    },
    {
      "cell_type": "code",
      "source": [
        "from collections import Counter\n",
        "count_words = Counter(words_without_stop_words).most_common(15)\n",
        "count_words "
      ],
      "metadata": {
        "colab": {
          "base_uri": "https://localhost:8080/"
        },
        "id": "So-xhrj8lLz4",
        "outputId": "6b055940-d0ac-4fc2-c3cb-aa4976998674"
      },
      "execution_count": 30,
      "outputs": [
        {
          "output_type": "execute_result",
          "data": {
            "text/plain": [
              "[('amp', 344),\n",
              " ('like', 324),\n",
              " ('via', 213),\n",
              " ('get', 184),\n",
              " ('fire', 174),\n",
              " ('people', 166),\n",
              " ('one', 158),\n",
              " ('would', 124),\n",
              " ('California', 113),\n",
              " ('got', 106),\n",
              " ('new', 106),\n",
              " ('know', 104),\n",
              " ('New', 104),\n",
              " ('video', 101),\n",
              " ('day', 100)]"
            ]
          },
          "metadata": {},
          "execution_count": 30
        }
      ]
    },
    {
      "cell_type": "code",
      "source": [
        "x = []\n",
        "y = []\n",
        "for i in range(len(count_words)):\n",
        "    x.append(count_words[i][0])\n",
        "for i in range(len(count_words)):\n",
        "    y.append(count_words[i][1]) "
      ],
      "metadata": {
        "id": "DGWzbmiwlSRe"
      },
      "execution_count": 31,
      "outputs": []
    },
    {
      "cell_type": "code",
      "source": [
        "def count_stop_words(words):\n",
        "  swords = []\n",
        "  for word in words:\n",
        "    if word in stop_words:\n",
        "      swords.append(word)\n",
        "  return swords"
      ],
      "metadata": {
        "id": "ha5PPRuOlTRv"
      },
      "execution_count": 32,
      "outputs": []
    },
    {
      "cell_type": "code",
      "source": [
        "stop_words_in_text = count_stop_words(words)\n",
        "count_stop_words = Counter(stop_words_in_text).most_common(15)\n",
        "count_stop_words"
      ],
      "metadata": {
        "colab": {
          "base_uri": "https://localhost:8080/"
        },
        "id": "Huwo_i_5lizf",
        "outputId": "b259fc0f-08dc-4e2d-d813-42357301bb17"
      },
      "execution_count": 33,
      "outputs": [
        {
          "output_type": "execute_result",
          "data": {
            "text/plain": [
              "[('the', 2603),\n",
              " ('a', 1890),\n",
              " ('to', 1819),\n",
              " ('in', 1782),\n",
              " ('of', 1738),\n",
              " ('and', 1320),\n",
              " ('for', 829),\n",
              " ('is', 827),\n",
              " ('s', 803),\n",
              " ('on', 798),\n",
              " ('you', 749),\n",
              " ('it', 611),\n",
              " ('that', 555),\n",
              " ('my', 552),\n",
              " ('with', 518)]"
            ]
          },
          "metadata": {},
          "execution_count": 33
        }
      ]
    },
    {
      "cell_type": "code",
      "source": [
        "x = []\n",
        "y = []\n",
        "for i in range(len(count_stop_words)):\n",
        "    x.append(count_stop_words[i][0])\n",
        "for i in range(len(count_stop_words)):\n",
        "    y.append(count_stop_words[i][1]) "
      ],
      "metadata": {
        "id": "MULuiiA2loOp"
      },
      "execution_count": 34,
      "outputs": []
    },
    {
      "cell_type": "code",
      "source": [
        "keywords = np.array(train['keyword'])"
      ],
      "metadata": {
        "id": "JYqliut6lpj_"
      },
      "execution_count": 35,
      "outputs": []
    },
    {
      "cell_type": "code",
      "source": [
        "disaster_keywords = []\n",
        "not_disaster_keywords = []\n",
        "\n",
        "for i in range(len(keywords)):\n",
        "  if keywords[i] is not np.nan and train['target'][i]==1:\n",
        "    disaster_keywords.append(keywords[i])\n",
        "\n",
        "for i in range(len(keywords)):\n",
        "  if keywords[i] is not np.nan and train['target'][i]==0:\n",
        "    not_disaster_keywords.append(keywords[i])\n",
        "\n",
        "disaster_keywords = disaster_keywords[:500]\n",
        "not_disaster_keywords = not_disaster_keywords[:500]"
      ],
      "metadata": {
        "id": "RrAMAJg7MlkS"
      },
      "execution_count": 36,
      "outputs": []
    },
    {
      "cell_type": "code",
      "source": [
        "additional_data = []\n",
        "additional_data_labels = []\n",
        "\n",
        "for i in range(len(disaster_keywords)):\n",
        "  additional_data.append(disaster_keywords[i])\n",
        "  additional_data_labels.append(1)\n",
        "  additional_data.append(not_disaster_keywords[i])\n",
        "  additional_data_labels.append(0)"
      ],
      "metadata": {
        "id": "QxPt6uQcMr8E"
      },
      "execution_count": 37,
      "outputs": []
    },
    {
      "cell_type": "code",
      "source": [
        "len(tweets)"
      ],
      "metadata": {
        "colab": {
          "base_uri": "https://localhost:8080/"
        },
        "id": "BiWP1vbrMv2q",
        "outputId": "bf88c56f-af27-49e7-a1d9-11f2860a7af3"
      },
      "execution_count": 38,
      "outputs": [
        {
          "output_type": "execute_result",
          "data": {
            "text/plain": [
              "7613"
            ]
          },
          "metadata": {},
          "execution_count": 38
        }
      ]
    },
    {
      "cell_type": "code",
      "source": [
        "for keyword in additional_data:\n",
        "  temp =[]\n",
        "  temp.append(keyword)\n",
        "  tweets.append(temp)\n",
        "\n",
        "len(tweets)"
      ],
      "metadata": {
        "colab": {
          "base_uri": "https://localhost:8080/"
        },
        "id": "HVGg58-CMx8g",
        "outputId": "650b0e89-78c3-4f80-c2f3-e076d308d406"
      },
      "execution_count": 39,
      "outputs": [
        {
          "output_type": "execute_result",
          "data": {
            "text/plain": [
              "8613"
            ]
          },
          "metadata": {},
          "execution_count": 39
        }
      ]
    },
    {
      "cell_type": "code",
      "source": [
        "labels = []\n",
        "for label in train['target']:\n",
        "  labels.append(label)"
      ],
      "metadata": {
        "id": "YC3BnXeHM0VB"
      },
      "execution_count": 40,
      "outputs": []
    },
    {
      "cell_type": "code",
      "source": [
        "for label in additional_data_labels:\n",
        "  labels.append(label)\n",
        "len(labels)"
      ],
      "metadata": {
        "colab": {
          "base_uri": "https://localhost:8080/"
        },
        "id": "_kmwFYsBM6je",
        "outputId": "d034cde7-934e-41fa-df38-430d6361d791"
      },
      "execution_count": 41,
      "outputs": [
        {
          "output_type": "execute_result",
          "data": {
            "text/plain": [
              "8613"
            ]
          },
          "metadata": {},
          "execution_count": 41
        }
      ]
    },
    {
      "cell_type": "code",
      "source": [
        "from tensorflow.keras.preprocessing.text import Tokenizer\n",
        "from tensorflow.keras.preprocessing.sequence import pad_sequences"
      ],
      "metadata": {
        "id": "saYLXA_SM7yj"
      },
      "execution_count": 42,
      "outputs": []
    },
    {
      "cell_type": "code",
      "source": [
        "##removing stopwords from training \n",
        "for tweet in tweets:\n",
        "  for word in tweet:\n",
        "    if word.lower() in stop_words or word in stop_words:\n",
        "      tweet.remove(word)"
      ],
      "metadata": {
        "id": "mC0MbZwYNBOc"
      },
      "execution_count": 43,
      "outputs": []
    },
    {
      "cell_type": "code",
      "source": [
        "##all lower\n",
        "Tweets = []\n",
        "for tweet in tweets:\n",
        "  tweet = [word.lower() for word in tweet ]\n",
        "  Tweets.append(tweet)"
      ],
      "metadata": {
        "id": "pruRd9g5NF2M"
      },
      "execution_count": 44,
      "outputs": []
    },
    {
      "cell_type": "code",
      "source": [
        "tokenizer = Tokenizer()\n",
        "tokenizer.fit_on_texts(Tweets)\n",
        "sequences = tokenizer.texts_to_sequences(Tweets)\n",
        "sequences[:1]"
      ],
      "metadata": {
        "colab": {
          "base_uri": "https://localhost:8080/"
        },
        "id": "0NYueHbDNI_D",
        "outputId": "7ba9a4ee-217d-4dd3-e78f-a53f7d42eaa9"
      },
      "execution_count": 45,
      "outputs": [
        {
          "output_type": "execute_result",
          "data": {
            "text/plain": [
              "[[4110, 1, 782, 39, 88, 2641, 4111, 42]]"
            ]
          },
          "metadata": {},
          "execution_count": 45
        }
      ]
    },
    {
      "cell_type": "code",
      "source": [
        "padded_sequences = pad_sequences(sequences,maxlen=25)\n",
        "padded_sequences[:2]  "
      ],
      "metadata": {
        "colab": {
          "base_uri": "https://localhost:8080/"
        },
        "id": "uncx2wasNMrL",
        "outputId": "b664ce8e-31ce-4e9c-b169-41e38fabbb42"
      },
      "execution_count": 46,
      "outputs": [
        {
          "output_type": "execute_result",
          "data": {
            "text/plain": [
              "array([[   0,    0,    0,    0,    0,    0,    0,    0,    0,    0,    0,\n",
              "           0,    0,    0,    0,    0,    0, 4110,    1,  782,   39,   88,\n",
              "        2641, 4111,   42],\n",
              "       [   0,    0,    0,    0,    0,    0,    0,    0,    0,    0,    0,\n",
              "           0,    0,    0,    0,    0,    0,    0,  148,   10,  183,  725,\n",
              "        5945, 5946, 1285]], dtype=int32)"
            ]
          },
          "metadata": {},
          "execution_count": 46
        }
      ]
    },
    {
      "cell_type": "code",
      "source": [
        "test=pd.read_csv('/content/drive/MyDrive/final project/Predicting Disaster Tweets/test.csv')"
      ],
      "metadata": {
        "id": "bXSl7pa9YV8r"
      },
      "execution_count": 47,
      "outputs": []
    },
    {
      "cell_type": "code",
      "source": [
        "test.head()"
      ],
      "metadata": {
        "colab": {
          "base_uri": "https://localhost:8080/",
          "height": 204
        },
        "id": "_mfiOgtYYjy-",
        "outputId": "f16d2fa4-c24b-45d3-d808-09398481f4b0"
      },
      "execution_count": 48,
      "outputs": [
        {
          "output_type": "execute_result",
          "data": {
            "text/plain": [
              "   id keyword location                                               text\n",
              "0   0     NaN      NaN                 Just happened a terrible car crash\n",
              "1   2     NaN      NaN  Heard about #earthquake is different cities, s...\n",
              "2   3     NaN      NaN  there is a forest fire at spot pond, geese are...\n",
              "3   9     NaN      NaN           Apocalypse lighting. #Spokane #wildfires\n",
              "4  11     NaN      NaN      Typhoon Soudelor kills 28 in China and Taiwan"
            ],
            "text/html": [
              "\n",
              "  <div id=\"df-ed9b4e1c-6688-4ea0-bcc0-360400228320\">\n",
              "    <div class=\"colab-df-container\">\n",
              "      <div>\n",
              "<style scoped>\n",
              "    .dataframe tbody tr th:only-of-type {\n",
              "        vertical-align: middle;\n",
              "    }\n",
              "\n",
              "    .dataframe tbody tr th {\n",
              "        vertical-align: top;\n",
              "    }\n",
              "\n",
              "    .dataframe thead th {\n",
              "        text-align: right;\n",
              "    }\n",
              "</style>\n",
              "<table border=\"1\" class=\"dataframe\">\n",
              "  <thead>\n",
              "    <tr style=\"text-align: right;\">\n",
              "      <th></th>\n",
              "      <th>id</th>\n",
              "      <th>keyword</th>\n",
              "      <th>location</th>\n",
              "      <th>text</th>\n",
              "    </tr>\n",
              "  </thead>\n",
              "  <tbody>\n",
              "    <tr>\n",
              "      <th>0</th>\n",
              "      <td>0</td>\n",
              "      <td>NaN</td>\n",
              "      <td>NaN</td>\n",
              "      <td>Just happened a terrible car crash</td>\n",
              "    </tr>\n",
              "    <tr>\n",
              "      <th>1</th>\n",
              "      <td>2</td>\n",
              "      <td>NaN</td>\n",
              "      <td>NaN</td>\n",
              "      <td>Heard about #earthquake is different cities, s...</td>\n",
              "    </tr>\n",
              "    <tr>\n",
              "      <th>2</th>\n",
              "      <td>3</td>\n",
              "      <td>NaN</td>\n",
              "      <td>NaN</td>\n",
              "      <td>there is a forest fire at spot pond, geese are...</td>\n",
              "    </tr>\n",
              "    <tr>\n",
              "      <th>3</th>\n",
              "      <td>9</td>\n",
              "      <td>NaN</td>\n",
              "      <td>NaN</td>\n",
              "      <td>Apocalypse lighting. #Spokane #wildfires</td>\n",
              "    </tr>\n",
              "    <tr>\n",
              "      <th>4</th>\n",
              "      <td>11</td>\n",
              "      <td>NaN</td>\n",
              "      <td>NaN</td>\n",
              "      <td>Typhoon Soudelor kills 28 in China and Taiwan</td>\n",
              "    </tr>\n",
              "  </tbody>\n",
              "</table>\n",
              "</div>\n",
              "      <button class=\"colab-df-convert\" onclick=\"convertToInteractive('df-ed9b4e1c-6688-4ea0-bcc0-360400228320')\"\n",
              "              title=\"Convert this dataframe to an interactive table.\"\n",
              "              style=\"display:none;\">\n",
              "        \n",
              "  <svg xmlns=\"http://www.w3.org/2000/svg\" height=\"24px\"viewBox=\"0 0 24 24\"\n",
              "       width=\"24px\">\n",
              "    <path d=\"M0 0h24v24H0V0z\" fill=\"none\"/>\n",
              "    <path d=\"M18.56 5.44l.94 2.06.94-2.06 2.06-.94-2.06-.94-.94-2.06-.94 2.06-2.06.94zm-11 1L8.5 8.5l.94-2.06 2.06-.94-2.06-.94L8.5 2.5l-.94 2.06-2.06.94zm10 10l.94 2.06.94-2.06 2.06-.94-2.06-.94-.94-2.06-.94 2.06-2.06.94z\"/><path d=\"M17.41 7.96l-1.37-1.37c-.4-.4-.92-.59-1.43-.59-.52 0-1.04.2-1.43.59L10.3 9.45l-7.72 7.72c-.78.78-.78 2.05 0 2.83L4 21.41c.39.39.9.59 1.41.59.51 0 1.02-.2 1.41-.59l7.78-7.78 2.81-2.81c.8-.78.8-2.07 0-2.86zM5.41 20L4 18.59l7.72-7.72 1.47 1.35L5.41 20z\"/>\n",
              "  </svg>\n",
              "      </button>\n",
              "      \n",
              "  <style>\n",
              "    .colab-df-container {\n",
              "      display:flex;\n",
              "      flex-wrap:wrap;\n",
              "      gap: 12px;\n",
              "    }\n",
              "\n",
              "    .colab-df-convert {\n",
              "      background-color: #E8F0FE;\n",
              "      border: none;\n",
              "      border-radius: 50%;\n",
              "      cursor: pointer;\n",
              "      display: none;\n",
              "      fill: #1967D2;\n",
              "      height: 32px;\n",
              "      padding: 0 0 0 0;\n",
              "      width: 32px;\n",
              "    }\n",
              "\n",
              "    .colab-df-convert:hover {\n",
              "      background-color: #E2EBFA;\n",
              "      box-shadow: 0px 1px 2px rgba(60, 64, 67, 0.3), 0px 1px 3px 1px rgba(60, 64, 67, 0.15);\n",
              "      fill: #174EA6;\n",
              "    }\n",
              "\n",
              "    [theme=dark] .colab-df-convert {\n",
              "      background-color: #3B4455;\n",
              "      fill: #D2E3FC;\n",
              "    }\n",
              "\n",
              "    [theme=dark] .colab-df-convert:hover {\n",
              "      background-color: #434B5C;\n",
              "      box-shadow: 0px 1px 3px 1px rgba(0, 0, 0, 0.15);\n",
              "      filter: drop-shadow(0px 1px 2px rgba(0, 0, 0, 0.3));\n",
              "      fill: #FFFFFF;\n",
              "    }\n",
              "  </style>\n",
              "\n",
              "      <script>\n",
              "        const buttonEl =\n",
              "          document.querySelector('#df-ed9b4e1c-6688-4ea0-bcc0-360400228320 button.colab-df-convert');\n",
              "        buttonEl.style.display =\n",
              "          google.colab.kernel.accessAllowed ? 'block' : 'none';\n",
              "\n",
              "        async function convertToInteractive(key) {\n",
              "          const element = document.querySelector('#df-ed9b4e1c-6688-4ea0-bcc0-360400228320');\n",
              "          const dataTable =\n",
              "            await google.colab.kernel.invokeFunction('convertToInteractive',\n",
              "                                                     [key], {});\n",
              "          if (!dataTable) return;\n",
              "\n",
              "          const docLinkHtml = 'Like what you see? Visit the ' +\n",
              "            '<a target=\"_blank\" href=https://colab.research.google.com/notebooks/data_table.ipynb>data table notebook</a>'\n",
              "            + ' to learn more about interactive tables.';\n",
              "          element.innerHTML = '';\n",
              "          dataTable['output_type'] = 'display_data';\n",
              "          await google.colab.output.renderOutput(dataTable, element);\n",
              "          const docLink = document.createElement('div');\n",
              "          docLink.innerHTML = docLinkHtml;\n",
              "          element.appendChild(docLink);\n",
              "        }\n",
              "      </script>\n",
              "    </div>\n",
              "  </div>\n",
              "  "
            ]
          },
          "metadata": {},
          "execution_count": 48
        }
      ]
    },
    {
      "cell_type": "code",
      "source": [
        "text=test['text']"
      ],
      "metadata": {
        "id": "_7fHomJcY78X"
      },
      "execution_count": 49,
      "outputs": []
    },
    {
      "cell_type": "code",
      "source": [
        "#removing unicode charcters\n",
        "no_uni_tweets_test = []\n",
        "for tweet in text:\n",
        "  no_uni_tweets_test.append(removing_unicodes(tweet)) "
      ],
      "metadata": {
        "id": "XxHfwtBhZCnk"
      },
      "execution_count": 51,
      "outputs": []
    },
    {
      "cell_type": "code",
      "source": [
        "#Cleaing\n",
        "cleaned_tweets_test = []\n",
        "for tweet in no_uni_tweets_test:\n",
        "  cleaned_tweets_test.append(clean_texts(tweet))  "
      ],
      "metadata": {
        "id": "29XdWTPwZJ0v"
      },
      "execution_count": 53,
      "outputs": []
    },
    {
      "cell_type": "code",
      "source": [
        "#Split all tweets\n",
        "tweets_test = []\n",
        "for tweet in cleaned_tweets_test:\n",
        "  tweets_test.append(tweet.split())  "
      ],
      "metadata": {
        "id": "7JaxB3xgZRTh"
      },
      "execution_count": 54,
      "outputs": []
    },
    {
      "cell_type": "code",
      "source": [
        "for tweet in tweets_test:\n",
        "  for word in tweet:\n",
        "    if word.lower() in stop_words or word in stop_words:\n",
        "      tweet.remove(word)"
      ],
      "metadata": {
        "id": "IgIDfS-XZu7I"
      },
      "execution_count": 55,
      "outputs": []
    },
    {
      "cell_type": "code",
      "source": [
        "Tweets_test = []\n",
        "for tweet in tweets_test:\n",
        "  tweet = [word.lower() for word in tweet ]\n",
        "  Tweets_test.append(tweet) "
      ],
      "metadata": {
        "id": "Hh0SsfEgZwii"
      },
      "execution_count": 56,
      "outputs": []
    },
    {
      "cell_type": "code",
      "source": [
        "tokenizer_test = Tokenizer()\n",
        "tokenizer_test.fit_on_texts(Tweets_test)\n",
        "sequences_test = tokenizer_test.texts_to_sequences(Tweets_test)\n",
        "sequences_test[:2] "
      ],
      "metadata": {
        "colab": {
          "base_uri": "https://localhost:8080/"
        },
        "id": "GCsWEv2fZ7A0",
        "outputId": "ebe2853f-43ac-4bc8-b227-7029bdb883a0"
      },
      "execution_count": 57,
      "outputs": [
        {
          "output_type": "execute_result",
          "data": {
            "text/plain": [
              "[[500, 897, 78, 53], [211, 14, 1749, 1013, 658, 816, 358]]"
            ]
          },
          "metadata": {},
          "execution_count": 57
        }
      ]
    },
    {
      "cell_type": "code",
      "source": [
        "padded_sequences_test = pad_sequences(sequences_test,maxlen=25)\n",
        "padded_sequences_test[:2] "
      ],
      "metadata": {
        "colab": {
          "base_uri": "https://localhost:8080/"
        },
        "id": "Sh5XRinzaDyI",
        "outputId": "d982f1e8-c5ae-43b5-ced5-d577db1f5380"
      },
      "execution_count": 58,
      "outputs": [
        {
          "output_type": "execute_result",
          "data": {
            "text/plain": [
              "array([[   0,    0,    0,    0,    0,    0,    0,    0,    0,    0,    0,\n",
              "           0,    0,    0,    0,    0,    0,    0,    0,    0,    0,  500,\n",
              "         897,   78,   53],\n",
              "       [   0,    0,    0,    0,    0,    0,    0,    0,    0,    0,    0,\n",
              "           0,    0,    0,    0,    0,    0,    0,  211,   14, 1749, 1013,\n",
              "         658,  816,  358]], dtype=int32)"
            ]
          },
          "metadata": {},
          "execution_count": 58
        }
      ]
    },
    {
      "cell_type": "code",
      "source": [
        "train = padded_sequences\n",
        "test = padded_sequences_test "
      ],
      "metadata": {
        "id": "og4SkNyHaKnm"
      },
      "execution_count": 59,
      "outputs": []
    },
    {
      "cell_type": "code",
      "source": [
        "X_train = np.array(train)\n",
        "y_train = np.array(labels)\n",
        "y_train = y_train.reshape(-1,1)"
      ],
      "metadata": {
        "id": "Fel8C5SeaQIX"
      },
      "execution_count": 60,
      "outputs": []
    },
    {
      "cell_type": "code",
      "source": [
        "y_train.shape "
      ],
      "metadata": {
        "colab": {
          "base_uri": "https://localhost:8080/"
        },
        "id": "xEHXKjBYaUvJ",
        "outputId": "f92ba687-7f17-42c5-f27c-59b1c5e92746"
      },
      "execution_count": 61,
      "outputs": [
        {
          "output_type": "execute_result",
          "data": {
            "text/plain": [
              "(8613, 1)"
            ]
          },
          "metadata": {},
          "execution_count": 61
        }
      ]
    },
    {
      "cell_type": "code",
      "source": [
        "vocab_size = len(tokenizer.word_index)\n",
        "vocab_size "
      ],
      "metadata": {
        "colab": {
          "base_uri": "https://localhost:8080/"
        },
        "id": "zGzH1_U_acGW",
        "outputId": "163aeb62-8d40-4206-a596-9e33227824d9"
      },
      "execution_count": 62,
      "outputs": [
        {
          "output_type": "execute_result",
          "data": {
            "text/plain": [
              "12967"
            ]
          },
          "metadata": {},
          "execution_count": 62
        }
      ]
    },
    {
      "cell_type": "code",
      "source": [
        "from sklearn.model_selection import train_test_split\n",
        "X_train, X_val, y_train, y_val = train_test_split(X_train,y_train,test_size=0.25,random_state=42)"
      ],
      "metadata": {
        "id": "adeXk-IKahsQ"
      },
      "execution_count": 63,
      "outputs": []
    },
    {
      "cell_type": "code",
      "source": [
        "from tensorflow.keras.models import Sequential\n",
        "from tensorflow.keras.layers import LSTM,Dense,Embedding,Dropout\n",
        "import tensorflow as tf\n",
        "model = Sequential()\n",
        "model.add(Embedding(vocab_size+1,12,input_length=25))\n",
        "\n",
        "model.add(LSTM(256))\n",
        "\n",
        "model.add(Dense(128,activation='relu'))\n",
        "model.add(Dense(32,activation='relu'))\n",
        "model.add(Dense(128,activation='relu'))\n",
        "model.add(Dropout(0.5))\n",
        "\n",
        "\n",
        "model.add(Dense(1,activation='sigmoid'))\n",
        "model.compile(loss=\"binary_crossentropy\",optimizer='RMSprop',metrics=['accuracy'])\n",
        "model.summary() "
      ],
      "metadata": {
        "colab": {
          "base_uri": "https://localhost:8080/"
        },
        "id": "h9Gy-VFHamEs",
        "outputId": "38b0eda2-31cb-4432-ac5c-3a1fdc433eec"
      },
      "execution_count": 64,
      "outputs": [
        {
          "output_type": "stream",
          "name": "stdout",
          "text": [
            "Model: \"sequential\"\n",
            "_________________________________________________________________\n",
            " Layer (type)                Output Shape              Param #   \n",
            "=================================================================\n",
            " embedding (Embedding)       (None, 25, 12)            155616    \n",
            "                                                                 \n",
            " lstm (LSTM)                 (None, 256)               275456    \n",
            "                                                                 \n",
            " dense (Dense)               (None, 128)               32896     \n",
            "                                                                 \n",
            " dense_1 (Dense)             (None, 32)                4128      \n",
            "                                                                 \n",
            " dense_2 (Dense)             (None, 128)               4224      \n",
            "                                                                 \n",
            " dropout (Dropout)           (None, 128)               0         \n",
            "                                                                 \n",
            " dense_3 (Dense)             (None, 1)                 129       \n",
            "                                                                 \n",
            "=================================================================\n",
            "Total params: 472,449\n",
            "Trainable params: 472,449\n",
            "Non-trainable params: 0\n",
            "_________________________________________________________________\n"
          ]
        }
      ]
    },
    {
      "cell_type": "code",
      "source": [
        "history = model.fit(X_train,y_train,epochs=3,validation_data=(X_val,y_val),verbose=1) "
      ],
      "metadata": {
        "colab": {
          "base_uri": "https://localhost:8080/"
        },
        "id": "EQ2g-hYTbIQG",
        "outputId": "4c53402b-09dc-4bab-e67d-ef4677f6825c"
      },
      "execution_count": 65,
      "outputs": [
        {
          "output_type": "stream",
          "name": "stdout",
          "text": [
            "Epoch 1/3\n",
            "202/202 [==============================] - 23s 98ms/step - loss: 0.6093 - accuracy: 0.6595 - val_loss: 0.4854 - val_accuracy: 0.7744\n",
            "Epoch 2/3\n",
            "202/202 [==============================] - 19s 94ms/step - loss: 0.4160 - accuracy: 0.8209 - val_loss: 0.4649 - val_accuracy: 0.7929\n",
            "Epoch 3/3\n",
            "202/202 [==============================] - 21s 106ms/step - loss: 0.3634 - accuracy: 0.8512 - val_loss: 0.5084 - val_accuracy: 0.7883\n"
          ]
        }
      ]
    },
    {
      "cell_type": "code",
      "source": [
        "plt.plot(history.history['accuracy'])\n",
        "plt.plot(history.history['val_accuracy'])\n",
        "plt.legend(['train accuracy','Val accuracy'])\n",
        "plt.title('Accuracy')\n",
        "plt.xlabel('Epochs') "
      ],
      "metadata": {
        "colab": {
          "base_uri": "https://localhost:8080/",
          "height": 312
        },
        "id": "U8OGath-fI46",
        "outputId": "902437ad-b911-4eba-a4d5-e895b951826d"
      },
      "execution_count": 69,
      "outputs": [
        {
          "output_type": "execute_result",
          "data": {
            "text/plain": [
              "Text(0.5, 0, 'Epochs')"
            ]
          },
          "metadata": {},
          "execution_count": 69
        },
        {
          "output_type": "display_data",
          "data": {
            "text/plain": [
              "<Figure size 432x288 with 1 Axes>"
            ],
            "image/png": "[encoded data removed]"
          },
          "metadata": {
            "needs_background": "light"
          }
        }
      ]
    },
    {
      "cell_type": "code",
      "source": [
        "plt.plot(history.history['loss'])\n",
        "plt.plot(history.history['val_loss'])\n",
        "plt.legend(['training_Loss','Val_Loss'])\n",
        "plt.title('Loss')\n",
        "plt.xlabel('epochs')  "
      ],
      "metadata": {
        "colab": {
          "base_uri": "https://localhost:8080/",
          "height": 312
        },
        "id": "LyL1AK9UfVor",
        "outputId": "aeadcb5b-0430-41d0-e11f-2b2e41edc123"
      },
      "execution_count": 67,
      "outputs": [
        {
          "output_type": "execute_result",
          "data": {
            "text/plain": [
              "Text(0.5, 0, 'epochs')"
            ]
          },
          "metadata": {},
          "execution_count": 67
        },
        {
          "output_type": "display_data",
          "data": {
            "text/plain": [
              "<Figure size 432x288 with 1 Axes>"
            ],
            "image/png": "[encoded data removed]"
          },
          "metadata": {
            "needs_background": "light"
          }
        }
      ]
    },
    {
      "cell_type": "code",
      "source": [
        "model.evaluate(X_val,y_val,verbose=2)"
      ],
      "metadata": {
        "id": "q8pmRZm7iMKa",
        "colab": {
          "base_uri": "https://localhost:8080/"
        },
        "outputId": "af195184-f762-4543-ce39-1eb4d72ea9d2"
      },
      "execution_count": 82,
      "outputs": [
        {
          "output_type": "stream",
          "name": "stdout",
          "text": [
            "68/68 - 2s - loss: 0.5084 - accuracy: 0.7883 - 2s/epoch - 34ms/step\n"
          ]
        },
        {
          "output_type": "execute_result",
          "data": {
            "text/plain": [
              "[0.508377730846405, 0.7883008122444153]"
            ]
          },
          "metadata": {},
          "execution_count": 82
        }
      ]
    },
    {
      "cell_type": "code",
      "source": [
        "#save model\n",
        "from keras.models import load_model\n",
        "model.save(\"model.h5\")"
      ],
      "metadata": {
        "id": "20-_XMs1GAfC"
      },
      "execution_count": 83,
      "outputs": []
    }
  ]
}